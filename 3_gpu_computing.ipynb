{
  "nbformat": 4,
  "nbformat_minor": 0,
  "metadata": {
    "colab": {
      "name": "3_gpu_computing.ipynb",
      "provenance": [],
      "collapsed_sections": [],
      "toc_visible": true,
      "include_colab_link": true
    },
    "kernelspec": {
      "name": "python3",
      "display_name": "Python 3"
    },
    "language_info": {
      "name": "python"
    },
    "accelerator": "GPU"
  },
  "cells": [
    {
      "cell_type": "markdown",
      "metadata": {
        "id": "view-in-github",
        "colab_type": "text"
      },
      "source": [
        "<a href=\"https://colab.research.google.com/github/ronglu-stanford/RL_reference_public/blob/main/3_gpu_computing.ipynb\" target=\"_parent\"><img src=\"https://colab.research.google.com/assets/colab-badge.svg\" alt=\"Open In Colab\"/></a>"
      ]
    },
    {
      "cell_type": "code",
      "metadata": {
        "id": "_PIZHWtcNDjW"
      },
      "source": [
        "from numba import jit\n",
        "import random\n",
        "import timeit\n",
        "import numpy as np\n",
        "import math"
      ],
      "execution_count": null,
      "outputs": []
    },
    {
      "cell_type": "markdown",
      "metadata": {
        "id": "PJ1l5V73pnKo"
      },
      "source": [
        "# Numba JIT compiled Python code"
      ]
    },
    {
      "cell_type": "code",
      "metadata": {
        "id": "uBcq-1lxMSOD"
      },
      "source": [
        "@jit(nopython=True)\n",
        "def monte_carlo_pi_fast(nsamples):\n",
        "    acc = 0\n",
        "    for i in range(nsamples):\n",
        "        x = random.random()\n",
        "        y = random.random()\n",
        "        if (x ** 2 + y ** 2) < 1.0:\n",
        "            acc += 1\n",
        "    return 4.0 * acc / nsamples\n",
        "\n",
        "def monte_carlo_pi(nsamples):\n",
        "    acc = 0\n",
        "    for i in range(nsamples):\n",
        "        x = random.random()\n",
        "        y = random.random()\n",
        "        if (x ** 2 + y ** 2) < 1.0:\n",
        "            acc += 1\n",
        "    return 4.0 * acc / nsamples    "
      ],
      "execution_count": null,
      "outputs": []
    },
    {
      "cell_type": "code",
      "metadata": {
        "colab": {
          "base_uri": "https://localhost:8080/"
        },
        "id": "TE4CGHD1MWF4",
        "outputId": "3805b327-5715-426e-b612-0659889fadc7"
      },
      "source": [
        "num_runs = 4\n",
        "\n",
        "nsamples = 1000000\n",
        "\n",
        "duration = timeit.Timer(lambda: monte_carlo_pi_fast(nsamples)).timeit(number = num_runs)\n",
        "print(f'On average it took {duration/num_runs} seconds')\n",
        "\n",
        "duration = timeit.Timer(lambda: monte_carlo_pi(nsamples)).timeit(number = num_runs)\n",
        "print(f'On average it took {duration/num_runs} seconds')"
      ],
      "execution_count": null,
      "outputs": [
        {
          "output_type": "stream",
          "text": [
            "On average it took 0.036436872500019035 seconds\n",
            "On average it took 0.3770847377500104 seconds\n"
          ],
          "name": "stdout"
        }
      ]
    },
    {
      "cell_type": "markdown",
      "metadata": {
        "id": "igPc3N4FpwXj"
      },
      "source": [
        "# Numba, generating CUDA code"
      ]
    },
    {
      "cell_type": "code",
      "metadata": {
        "id": "EjFLVr-Uh4eC"
      },
      "source": [
        "from numba import cuda, float32\n",
        "\n",
        "@cuda.jit\n",
        "def matmul(A, B, C):\n",
        "    \"\"\"Perform square matrix multiplication of C = A * B\n",
        "    \"\"\"\n",
        "    i, j = cuda.grid(2)\n",
        "    if i < C.shape[0] and j < C.shape[1]:\n",
        "        tmp = 0.\n",
        "        for k in range(A.shape[1]):\n",
        "            tmp += A[i, k] * B[k, j]\n",
        "        C[i, j] = tmp"
      ],
      "execution_count": null,
      "outputs": []
    },
    {
      "cell_type": "code",
      "metadata": {
        "colab": {
          "base_uri": "https://localhost:8080/"
        },
        "id": "o41fso2PiRl1",
        "outputId": "f19a7bab-616e-4130-cbb1-3bf8d093177d"
      },
      "source": [
        "shp = (1000,1000)\n",
        "A = np.random.random(shp)\n",
        "B = np.random.random(shp)\n",
        "C = np.zeros(shp)\n",
        "\n",
        "threadsperblock = (16, 16)\n",
        "blockspergrid_x = math.ceil(C.shape[0] / threadsperblock[0])\n",
        "blockspergrid_y = math.ceil(C.shape[1] / threadsperblock[1])\n",
        "blockspergrid = (blockspergrid_x, blockspergrid_y)\n",
        "\n",
        "duration = timeit.Timer(lambda: matmul[blockspergrid, threadsperblock](A, B, C)).timeit(number = 1)\n",
        "print(f'On average it took {duration} seconds')\n",
        "# You will need a large matrix to see a speed-up\n",
        "# The running time includes transferring data to and from the GPU\n",
        "\n",
        "duration = timeit.Timer(lambda: A.dot(B)).timeit(number = 1)\n",
        "print(f'On average it took {duration} seconds')\n",
        "\n",
        "print(np.linalg.norm(C - A.dot(B)))"
      ],
      "execution_count": null,
      "outputs": [
        {
          "output_type": "stream",
          "text": [
            "On average it took 0.25407473700010996 seconds\n",
            "On average it took 0.07713242299996637 seconds\n",
            "2.0377246600389243e-10\n"
          ],
          "name": "stdout"
        }
      ]
    },
    {
      "cell_type": "markdown",
      "metadata": {
        "id": "EqwOreDyL7H8"
      },
      "source": [
        "# OpenMP with distribute parallel for"
      ]
    },
    {
      "cell_type": "code",
      "metadata": {
        "colab": {
          "base_uri": "https://localhost:8080/"
        },
        "id": "rtRD7d9XG6lt",
        "outputId": "f98c0cfb-fc6f-43ca-8f10-d8c5518e4424"
      },
      "source": [
        "%%file omp_distribute.cpp\n",
        "\n",
        "#include <cassert>\n",
        "#include <cstdio>\n",
        "#include <vector>\n",
        "\n",
        "using namespace std;\n",
        "\n",
        "int main(void) {\n",
        "  const int N = 1 << 21;\n",
        "  printf(\"N = %d\\n\", N);\n",
        "\n",
        "  float *A = new float[N];\n",
        "  float *B = new float[N];\n",
        "  float *C = new float[N];\n",
        "\n",
        "  for (int i = 0; i < N; ++i) {\n",
        "    A[i] = 0;\n",
        "    B[i] = i;\n",
        "    C[i] = 3 * i;\n",
        "  }\n",
        "\n",
        "  int nteams = 1024;\n",
        "  int block_threads = N / nteams;\n",
        "  const int k = 4;\n",
        "#pragma omp target map(tofrom : A) map(to : B, C)\n",
        "#pragma omp teams num_teams(nteams)\n",
        "#pragma omp distribute parallel for dist_schedule(static, block_threads)\n",
        "  for (int i = 0; i < N; ++i) {\n",
        "    A[i] = B[i] + k * C[i];\n",
        "  }\n",
        "\n",
        "  for (int i = 0; i < N; ++i) {\n",
        "    assert(A[i] == i + 3 * k * i);\n",
        "  }\n",
        "\n",
        "  printf(\"PASS\\n\");\n",
        "  return 0;\n",
        "}"
      ],
      "execution_count": null,
      "outputs": [
        {
          "output_type": "stream",
          "text": [
            "Overwriting omp_distribute.cpp\n"
          ],
          "name": "stdout"
        }
      ]
    },
    {
      "cell_type": "code",
      "metadata": {
        "colab": {
          "base_uri": "https://localhost:8080/"
        },
        "id": "aMAE0XNxHCla",
        "outputId": "d4e7957c-e215-4423-c4df-bc2479fc484d"
      },
      "source": [
        "# This will run on the CPU not the GPU\n",
        "# g++ needs to be configured properly to generate CUDA code\n",
        "# see https://gcc.gnu.org/wiki/Offloading\n",
        "# https://www.openmp.org/resources/openmp-compilers-tools/\n",
        "!name=omp_distribute && g++ -std=c++11 -o $name $name.cpp -fopenmp && ./$name"
      ],
      "execution_count": null,
      "outputs": [
        {
          "output_type": "stream",
          "text": [
            "N = 2097152\n",
            "PASS\n"
          ],
          "name": "stdout"
        }
      ]
    },
    {
      "cell_type": "markdown",
      "metadata": {
        "id": "oOPgUJgvp29m"
      },
      "source": [
        "# Example CUDA code, how to add two matrices"
      ]
    },
    {
      "cell_type": "code",
      "metadata": {
        "colab": {
          "base_uri": "https://localhost:8080/"
        },
        "id": "vm4LPmh7p50p",
        "outputId": "46a8fba5-d2ea-48ad-d529-dc60d7e46346"
      },
      "source": [
        "%%file matrix_add.cu\n",
        "\n",
        "#include <iostream>\n",
        "#include <vector>\n",
        "#include <cstdlib>\n",
        "#include <cstdio>\n",
        "#include <cassert>\n",
        "#include <unistd.h>\n",
        "\n",
        "using std::vector;\n",
        "\n",
        "__global__\n",
        "void Initialize(int n, int* a, int* b) {\n",
        "    int i = blockIdx.x * blockDim.x + threadIdx.x;\n",
        "    int j = blockIdx.y * blockDim.y + threadIdx.y;\n",
        "\n",
        "    if(i < n && j < n) {\n",
        "        a[n*i + j] = j;\n",
        "        b[n*i + j] = i-2*j;\n",
        "    }\n",
        "}\n",
        "\n",
        "__global__\n",
        "void Add(int n, int* a, int* b, int* c) {\n",
        "    int i = blockIdx.x * blockDim.x + threadIdx.x;\n",
        "    int j = blockIdx.y * blockDim.y + threadIdx.y;\n",
        "    if(i < n && j < n) {\n",
        "        c[n*i + j] = a[n*i + j] + b[n*i + j];\n",
        "    }\n",
        "}\n",
        "\n",
        "int main(int argc, const char** argv) {\n",
        "\n",
        "    int n = 1024;\n",
        "    int n_thread = 512;\n",
        "\n",
        "    printf(\"Using %d threads = %d warps\\n\",n_thread, (n_thread+31)/32);   \n",
        "    printf(\"Dimensions of matrix: %5d x %5d\\n\",n,n);\n",
        "\n",
        "    int* d_a, *d_b, *d_c;\n",
        "\n",
        "    /* Allocate memory */\n",
        "    cudaMalloc(&d_a, sizeof(int) * n*n);\n",
        "    cudaMalloc(&d_b, sizeof(int) * n*n);\n",
        "    cudaMalloc(&d_c, sizeof(int) * n*n);\n",
        "\n",
        "    dim3 th_block(32,n_thread/32);\n",
        "    int blocks_per_grid_x = (n + th_block.x - 1) / th_block.x;\n",
        "    int blocks_per_grid_y = (n + th_block.y - 1) / th_block.y;\n",
        "    /* This formula is needed to make sure we process all entries in matrix */\n",
        "    dim3 num_blocks(blocks_per_grid_x, blocks_per_grid_y);\n",
        "\n",
        "    printf(\"Dimension of thread block: %2d x %2d\\n\", th_block.x, th_block.y);\n",
        "    printf(\"Dimension of grid: %3d x %3d\\n\", num_blocks.x, num_blocks.y);\n",
        "\n",
        "    /* Run calculation on GPU */\n",
        "\n",
        "    /* Initialize matrices */\n",
        "    Initialize<<<num_blocks, th_block>>>(n, d_a, d_b);\n",
        "\n",
        "    /* C = A + B */\n",
        "    Add<<<num_blocks, th_block>>>(n, d_a, d_b, d_c);\n",
        "\n",
        "    cudaFree(d_a); \n",
        "    cudaFree(d_b);    \n",
        "\n",
        "    /* Note that kernels execute asynchronously.\n",
        "       They will fail without any error message!\n",
        "       This can be confusing when debugging.\n",
        "       The output arrays will be left uninitialized with no warning.\n",
        "       */\n",
        "\n",
        "    vector<int> h_c(n*n);\n",
        "    /* Copy the result back to the CPU */\n",
        "    cudaMemcpy(&h_c[0], d_c, sizeof(int) * n*n, cudaMemcpyDeviceToHost);\n",
        "\n",
        "    cudaFree(d_c);     \n",
        "\n",
        "    /* Test result */\n",
        "    for(int i = 0; i < n; ++i) {\n",
        "        for(int j = 0; j < n; ++j) {\n",
        "            if(!(h_c[n*i + j] == i-j)) {\n",
        "                printf(\"%d %d %d %d %d\\n\",n,i,j,h_c[n*i + j],i-j);\n",
        "            }\n",
        "            assert(h_c[n*i + j] == i-j);\n",
        "        }\n",
        "    }         \n",
        "\n",
        "    printf(\"All tests have passed; calculation is correct.\\n\");\n",
        "\n",
        "    return 0;\n",
        "}\n"
      ],
      "execution_count": null,
      "outputs": [
        {
          "output_type": "stream",
          "text": [
            "Overwriting matrix_add.cu\n"
          ],
          "name": "stdout"
        }
      ]
    },
    {
      "cell_type": "code",
      "metadata": {
        "colab": {
          "base_uri": "https://localhost:8080/"
        },
        "id": "bH2GHOx3q5SB",
        "outputId": "259f3f00-7ee1-4b33-e409-d70329998faf"
      },
      "source": [
        "!name=matrix_add && nvcc -o $name $name.cu && ./$name"
      ],
      "execution_count": null,
      "outputs": [
        {
          "output_type": "stream",
          "text": [
            "Using 512 threads = 16 warps\n",
            "Dimensions of matrix:  1024 x  1024\n",
            "Dimension of thread block: 32 x 16\n",
            "Dimension of grid:  32 x  64\n",
            "All tests have passed; calculation is correct.\n"
          ],
          "name": "stdout"
        }
      ]
    },
    {
      "cell_type": "markdown",
      "metadata": {
        "id": "3oNaH46QDbhT"
      },
      "source": [
        "# Exercise: n-body problem using CUDA"
      ]
    },
    {
      "cell_type": "code",
      "metadata": {
        "colab": {
          "base_uri": "https://localhost:8080/"
        },
        "id": "QqAqJbHpDe4_",
        "outputId": "c46c0372-c66b-48fa-dda9-4668f3860e18"
      },
      "source": [
        "%%file nbody.cu\n",
        "\n",
        "#include <cassert>\n",
        "#include <cmath>\n",
        "#include <cstdio>\n",
        "#include <cstdlib>\n",
        "#include <iostream>\n",
        "#include <vector>\n",
        "\n",
        "using namespace std;\n",
        "\n",
        "// Pseudo-random number generator\n",
        "__host__ __device__\n",
        "int safe_rand(unsigned int *seed) {\n",
        "    unsigned int next = *seed;\n",
        "    int result;\n",
        "    \n",
        "    next *= 1103515245;\n",
        "    next += 12345;\n",
        "    result = (unsigned int)(next / 65536) % 2048;\n",
        "    \n",
        "    next *= 1103515245;\n",
        "    next += 12345;\n",
        "    result <<= 10;\n",
        "    result ^= (unsigned int)(next / 65536) % 1024;\n",
        "    \n",
        "    next *= 1103515245;\n",
        "    next += 12345;\n",
        "    result <<= 10;\n",
        "    result ^= (unsigned int)(next / 65536) % 1024;\n",
        "    \n",
        "    *seed = next;\n",
        "    \n",
        "    return result;\n",
        "}\n",
        "\n",
        "__host__ __device__\n",
        "float force(const float x) { return -2. * atan(x) / (x * x + 1.); }\n",
        "\n",
        "__global__\n",
        "void initialize(int n, float * __restrict__ x) {\n",
        "  // fill-in the code\n",
        "  // Use code from shared_memory.ipynb :\n",
        "  // unsigned int seed = 4357U + unsigned(i) * 1103515245;\n",
        "  // x[i] = float(safe_rand(&seed)) / RAND_MAX;\n",
        "}\n",
        "\n",
        "__global__\n",
        "void compute_force(int n, float * __restrict__ x, float * __restrict__ f) {\n",
        "  // fill-in the code\n",
        "}\n",
        "\n",
        "int main(void) {\n",
        "    const unsigned n = 10000;\n",
        "    const unsigned n_thread = 256;\n",
        "    \n",
        "    const unsigned n_bytes = sizeof(float) * n;\n",
        "\n",
        "    float* d_x, *d_f;\n",
        "    \n",
        "    /* Allocate memory and initialize */\n",
        "    cudaMalloc(&d_x, n_bytes);\n",
        "    cudaMalloc(&d_f, n_bytes);\n",
        "    cudaMemset(d_f, 0, n_bytes);\n",
        "    \n",
        "    dim3 th_block(n_thread);\n",
        "    // fill-in the code\n",
        "    // const unsigned blocks_per_grid_x = ...;\n",
        "    // dim3 num_blocks(...);    \n",
        "    \n",
        "    // fill-in the code\n",
        "    // initialize<<<..., ...>>>(...);\n",
        "    // compute_force<<<..., ...>>>(...);  \n",
        "    \n",
        "    cudaFree(d_x);\n",
        "    \n",
        "    /* Copy the result back to the CPU */\n",
        "    vector<float> h_f(n);\n",
        "    cudaMemcpy(&h_f[0], d_f, n_bytes, cudaMemcpyDeviceToHost);      \n",
        "\n",
        "    cudaFree(d_f);     \n",
        "    \n",
        "    // Test\n",
        "    vector<float> x(n);\n",
        "    {\n",
        "        for (int i = 0; i < n; ++i) {\n",
        "            unsigned int seed = 4357U + unsigned(i) * 1103515245;        \n",
        "            x[i] = float(safe_rand(&seed)) / RAND_MAX;\n",
        "            assert(x[i] > 0 && x[i] < 1);\n",
        "        }\n",
        "    }\n",
        "    \n",
        "    vector<float> f(n,0);\n",
        "    \n",
        "    for (int i = 0; i < n; ++i) {\n",
        "        for (int j = i + 1; j < n; ++j) {\n",
        "            const float x_ = x[i] - x[j];\n",
        "            const float f_ = force(x_);\n",
        "            f[i] += f_;\n",
        "            f[j] -= f_;\n",
        "        }\n",
        "    }\n",
        "    \n",
        "    {        \n",
        "        float max_err = 0;\n",
        "        float scale = 0;\n",
        "        for (int i = 0; i < n; ++i) {\n",
        "            max_err = max(max_err, fabs(h_f[i] - f[i]));\n",
        "            scale = max(scale, fabs(f[i]));\n",
        "        }\n",
        "        printf(\"largest error: %g\\n\", max_err/scale);        \n",
        "     \n",
        "        for (int i = 0; i < n; ++i) assert(fabs(h_f[i] - f[i]) < 1e-5*scale);        \n",
        "        cout << \"PASS\\n\";\n",
        "    }\n",
        "    \n",
        "    return 0;\n",
        "}"
      ],
      "execution_count": null,
      "outputs": [
        {
          "output_type": "stream",
          "text": [
            "Overwriting nbody.cu\n"
          ],
          "name": "stdout"
        }
      ]
    },
    {
      "cell_type": "code",
      "metadata": {
        "colab": {
          "base_uri": "https://localhost:8080/"
        },
        "id": "nyPylnGGDnIw",
        "outputId": "018914fe-fc3c-4dd2-f32a-130230fabc7f"
      },
      "source": [
        "!name=nbody && nvcc -o $name $name.cu && ./$name"
      ],
      "execution_count": null,
      "outputs": [
        {
          "output_type": "stream",
          "text": [
            "nbody.cu(65): warning: variable \"th_block\" was declared but never referenced\n",
            "\n",
            "largest error: 1\n",
            "nbody: nbody.cu:112: int main(): Assertion `fabs(h_f[i] - f[i]) < 1e-5*scale' failed.\n"
          ],
          "name": "stdout"
        }
      ]
    },
    {
      "cell_type": "markdown",
      "metadata": {
        "id": "O_tfR0YkELaR"
      },
      "source": [
        "Complete the exercise above before looking at the solution!!"
      ]
    },
    {
      "cell_type": "markdown",
      "metadata": {
        "id": "upByS3-MDkZa"
      },
      "source": [
        "# Solution"
      ]
    },
    {
      "cell_type": "markdown",
      "metadata": {
        "id": "YGnMwiK0KVXw"
      },
      "source": [
        "## n-body problem using CUDA"
      ]
    },
    {
      "cell_type": "code",
      "metadata": {
        "colab": {
          "base_uri": "https://localhost:8080/"
        },
        "id": "dUXwoA_JBZCO",
        "outputId": "479ed30b-3bfa-48aa-e615-55109db16614"
      },
      "source": [
        "%%file nbody.cu\n",
        "\n",
        "#include <cassert>\n",
        "#include <cmath>\n",
        "#include <cstdio>\n",
        "#include <cstdlib>\n",
        "#include <iostream>\n",
        "#include <vector>\n",
        "\n",
        "using namespace std;\n",
        "\n",
        "// Pseudo-random number generator\n",
        "__host__ __device__\n",
        "int safe_rand(unsigned int *seed) {\n",
        "    unsigned int next = *seed;\n",
        "    int result;\n",
        "    \n",
        "    next *= 1103515245;\n",
        "    next += 12345;\n",
        "    result = (unsigned int)(next / 65536) % 2048;\n",
        "    \n",
        "    next *= 1103515245;\n",
        "    next += 12345;\n",
        "    result <<= 10;\n",
        "    result ^= (unsigned int)(next / 65536) % 1024;\n",
        "    \n",
        "    next *= 1103515245;\n",
        "    next += 12345;\n",
        "    result <<= 10;\n",
        "    result ^= (unsigned int)(next / 65536) % 1024;\n",
        "    \n",
        "    *seed = next;\n",
        "    \n",
        "    return result;\n",
        "}\n",
        "\n",
        "__host__ __device__\n",
        "float force(const float x) { return -2. * atan(x) / (x * x + 1.); }\n",
        "\n",
        "__global__\n",
        "void initialize(int n, float * __restrict__ x) {\n",
        "    long i = blockIdx.x * blockDim.x + threadIdx.x;\n",
        "    \n",
        "    if(i < n) {\n",
        "        unsigned int seed = 4357U + unsigned(i) * 1103515245;\n",
        "        x[i] = float(safe_rand(&seed)) / RAND_MAX;\n",
        "    }\n",
        "}\n",
        "\n",
        "__global__\n",
        "void compute_force(int n, float * __restrict__ x, float * __restrict__ f) {\n",
        "    long i = blockIdx.x * blockDim.x + threadIdx.x;\n",
        "    \n",
        "    if (i < n) {\n",
        "        for (int j = 0; j < n; ++j) {\n",
        "            if (j != i) {\n",
        "                const float x_ = x[i] - x[j];\n",
        "                const float f_ = force(x_);\n",
        "                f[i] += f_; \n",
        "                // there is no race condition on += in this algorithm\n",
        "            }\n",
        "        }\n",
        "    }\n",
        "}\n",
        "\n",
        "int main(void) {\n",
        "    const unsigned n = 10000;\n",
        "    const unsigned n_thread = 256;\n",
        "    \n",
        "    const unsigned n_bytes = sizeof(float) * n;\n",
        "\n",
        "    float* d_x, *d_f;\n",
        "    \n",
        "    /* Allocate memory and initialize */\n",
        "    cudaMalloc(&d_x, n_bytes);\n",
        "    cudaMalloc(&d_f, n_bytes);\n",
        "    cudaMemset(d_f, 0, n_bytes);\n",
        "    \n",
        "    dim3 th_block(n_thread);\n",
        "    const unsigned blocks_per_grid_x = (n + th_block.x - 1) / th_block.x;\n",
        "    dim3 num_blocks(blocks_per_grid_x);    \n",
        "    \n",
        "    initialize<<<num_blocks, th_block>>>(n, d_x);\n",
        "    compute_force<<<num_blocks, th_block>>>(n, d_x, d_f);  \n",
        "\n",
        "    cudaFree(d_x);\n",
        "    \n",
        "    /* Copy the result back to the CPU */\n",
        "    vector<float> h_f(n);\n",
        "    cudaMemcpy(&h_f[0], d_f, n_bytes, cudaMemcpyDeviceToHost);      \n",
        "\n",
        "    cudaFree(d_f);    \n",
        "    \n",
        "    // Test\n",
        "    vector<float> x(n);\n",
        "    {\n",
        "        for (int i = 0; i < n; ++i) {\n",
        "            unsigned int seed = 4357U + unsigned(i) * 1103515245;        \n",
        "            x[i] = float(safe_rand(&seed)) / RAND_MAX;\n",
        "            assert(x[i] > 0 && x[i] < 1);\n",
        "        }\n",
        "    }\n",
        "    \n",
        "    vector<float> f(n,0);\n",
        "    \n",
        "    for (int i = 0; i < n; ++i) {\n",
        "        for (int j = i + 1; j < n; ++j) {\n",
        "            const float x_ = x[i] - x[j];\n",
        "            const float f_ = force(x_);\n",
        "            f[i] += f_;\n",
        "            f[j] -= f_;\n",
        "        }\n",
        "    }\n",
        "    \n",
        "    {        \n",
        "        float max_err = 0;\n",
        "        float scale = 0;\n",
        "        for (int i = 0; i < n; ++i) {\n",
        "            max_err = max(max_err, fabs(h_f[i] - f[i]));\n",
        "            scale = max(scale, fabs(f[i]));\n",
        "        }\n",
        "        printf(\"largest error: %g\\n\", max_err/scale);        \n",
        "     \n",
        "        for (int i = 0; i < n; ++i) assert(fabs(h_f[i] - f[i]) < 1e-5*scale);        \n",
        "        cout << \"PASS\\n\";\n",
        "    }    \n",
        "    \n",
        "    return 0;\n",
        "}"
      ],
      "execution_count": null,
      "outputs": [
        {
          "output_type": "stream",
          "text": [
            "Overwriting nbody.cu\n"
          ],
          "name": "stdout"
        }
      ]
    },
    {
      "cell_type": "code",
      "metadata": {
        "colab": {
          "base_uri": "https://localhost:8080/"
        },
        "id": "8ccMfQhrBfKY",
        "outputId": "44656b3e-610b-46a4-aab0-0ce40f3c48d0"
      },
      "source": [
        "!name=nbody && nvcc -o $name $name.cu && ./$name"
      ],
      "execution_count": null,
      "outputs": [
        {
          "output_type": "stream",
          "text": [
            "largest error: 2.37414e-07\n",
            "PASS\n"
          ],
          "name": "stdout"
        }
      ]
    }
  ]
}