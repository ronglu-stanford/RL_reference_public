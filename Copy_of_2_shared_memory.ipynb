{
  "nbformat": 4,
  "nbformat_minor": 0,
  "metadata": {
    "colab": {
      "name": "Copy of 2_shared_memory.ipynb",
      "provenance": [],
      "collapsed_sections": [],
      "include_colab_link": true
    },
    "kernelspec": {
      "name": "python3",
      "display_name": "Python 3"
    }
  },
  "cells": [
    {
      "cell_type": "markdown",
      "metadata": {
        "id": "view-in-github",
        "colab_type": "text"
      },
      "source": [
        "<a href=\"https://colab.research.google.com/github/ronglu-stanford/RL_reference_public/blob/main/Copy_of_2_shared_memory.ipynb\" target=\"_parent\"><img src=\"https://colab.research.google.com/assets/colab-badge.svg\" alt=\"Open In Colab\"/></a>"
      ]
    },
    {
      "cell_type": "markdown",
      "metadata": {
        "id": "m668PjUbWux-"
      },
      "source": [
        "# Shared Memory Tutorial "
      ]
    },
    {
      "cell_type": "markdown",
      "metadata": {
        "id": "JZYPFO2UgE6v"
      },
      "source": [
        "# C++ threads Hello World"
      ]
    },
    {
      "cell_type": "code",
      "metadata": {
        "colab": {
          "base_uri": "https://localhost:8080/"
        },
        "id": "KWMMEulvgIkJ",
        "outputId": "9d6b6880-cf8f-4b07-de7a-6f77e2a8922c"
      },
      "source": [
        "%%file hello_world_threads.cpp\n",
        "\n",
        "#include <thread>\n",
        "#include <cassert>\n",
        "#include <iostream>\n",
        "\n",
        "using namespace std;\n",
        "\n",
        "void f1()\n",
        "{\n",
        "    cout << \"Hello World!\\n\";\n",
        "}\n",
        "\n",
        "void f2(int m)\n",
        "{\n",
        "    cout << \"Hello World with m = \" << m << endl;\n",
        "}\n",
        "\n",
        "void f3(int &k)\n",
        "{\n",
        "    cout << \"Hello World; k was passed by reference; k = \" << k << endl;\n",
        "    k += 3;\n",
        "}\n",
        "\n",
        "int main(void)\n",
        "{\n",
        "  // Demonstrate using thread constructor\n",
        "  thread t1(f1);\n",
        "\n",
        "  int m = 5;\n",
        "  // With an argument\n",
        "  thread t2(f2, m);\n",
        "\n",
        "  int k = 7;\n",
        "  // With a reference\n",
        "  thread t3(f3, ref(k)); /* use ref to pass a reference */\n",
        "\n",
        "  // Wait for t3 to complete\n",
        "  t3.join();\n",
        "  cout << \"k is now equal to \" << k << endl;\n",
        "  assert(k == 10);\n",
        " \n",
        "  /* wait for t1 and t2 to finish */\n",
        "  t1.join();\n",
        "  t2.join(); \n",
        "\n",
        "  return 0;\n",
        "}"
      ],
      "execution_count": null,
      "outputs": [
        {
          "output_type": "stream",
          "text": [
            "Overwriting hello_world_threads.cpp\n"
          ],
          "name": "stdout"
        }
      ]
    },
    {
      "cell_type": "code",
      "metadata": {
        "id": "0yBN38JaW-3S",
        "colab": {
          "base_uri": "https://localhost:8080/"
        },
        "outputId": "c6a14c26-c235-44cf-9dfd-0d7e5a337668"
      },
      "source": [
        "!ls -l"
      ],
      "execution_count": null,
      "outputs": [
        {
          "output_type": "stream",
          "text": [
            "total 392\n",
            "-rwxr-xr-x 1 root root  21248 Aug 12 18:56 entropy\n",
            "-rw-r--r-- 1 root root   1776 Aug 12 18:56 entropy.cpp\n",
            "-rwxr-xr-x 1 root root 134256 Aug 12 18:56 future\n",
            "-rw-r--r-- 1 root root   1443 Aug 12 18:56 future.cpp\n",
            "-rwxr-xr-x 1 root root  44048 Aug 12 18:56 hello_world_thread\n",
            "-rw-r--r-- 1 root root    716 Aug 12 21:54 hello_world_threads.cpp\n",
            "-rwxr-xr-x 1 root root  21480 Aug 12 18:56 nbody\n",
            "-rw-r--r-- 1 root root   2333 Aug 12 18:56 nbody.cpp\n",
            "-rwxr-xr-x 1 root root  21648 Aug 12 18:56 nbody_omp\n",
            "-rw-r--r-- 1 root root   2403 Aug 12 18:56 nbody_omp.cpp\n",
            "-rwxr-xr-x 1 root root  40912 Aug 12 18:56 pi\n",
            "-rw-r--r-- 1 root root   1525 Aug 12 18:56 pi.cpp\n",
            "-rwxr-xr-x 1 root root  14144 Aug 12 18:56 pi_omp_1\n",
            "-rw-r--r-- 1 root root    751 Aug 12 18:56 pi_omp_1.cpp\n",
            "-rwxr-xr-x 1 root root  14248 Aug 12 18:56 pi_omp_2\n",
            "-rw-r--r-- 1 root root    751 Aug 12 18:56 pi_omp_2.cpp\n",
            "-rwxr-xr-x 1 root root   8792 Aug 12 18:56 pi_openmp\n",
            "-rw-r--r-- 1 root root    322 Aug 12 18:56 pi_openmp.cpp\n",
            "drwxr-xr-x 1 root root   4096 Jul 16 13:20 sample_data\n",
            "-rwxr-xr-x 1 root root  13560 Aug 12 18:56 tree_postorder\n",
            "-rw-r--r-- 1 root root   1876 Aug 12 18:56 tree_postorder.cpp\n"
          ],
          "name": "stdout"
        }
      ]
    },
    {
      "cell_type": "code",
      "metadata": {
        "colab": {
          "base_uri": "https://localhost:8080/"
        },
        "id": "Y0DJJ9Zngr0O",
        "outputId": "f17c6a7a-a259-449c-8c0b-56ee2ce924ee"
      },
      "source": [
        "!g++ -o hello_world_thread hello_world_threads.cpp -lpthread && ./hello_world_thread"
      ],
      "execution_count": null,
      "outputs": [
        {
          "output_type": "stream",
          "text": [
            "Hello World!\n",
            "Hello World; k was passed by reference; k = 7\n",
            "k is now equal to 10\n",
            "Hello World with m = 5\n"
          ],
          "name": "stdout"
        }
      ]
    },
    {
      "cell_type": "markdown",
      "metadata": {
        "id": "WcL_jMDlB6bT"
      },
      "source": [
        "# C++ threads and future/promise"
      ]
    },
    {
      "cell_type": "code",
      "metadata": {
        "colab": {
          "base_uri": "https://localhost:8080/"
        },
        "id": "yJOeP4HcxNG3",
        "outputId": "7d14c1f3-f7da-45a1-88e2-2e9ce7e954f0"
      },
      "source": [
        "%%file future.cpp \n",
        "\n",
        "#include <cassert>\n",
        "#include <future>\n",
        "#include <iostream>\n",
        "#include <thread>\n",
        "#include <valarray>\n",
        "#include <numeric>\n",
        "\n",
        "using namespace std;\n",
        "typedef valarray<int> vint;\n",
        "\n",
        "int accumulate(vint &v) { return v.sum(); }\n",
        "\n",
        "int global_sum;\n",
        "\n",
        "void accumulate_global(vint &v) { global_sum = accumulate(v); }\n",
        "\n",
        "void accumulate_ref(vint &v, int &sum) { sum = accumulate(v); }\n",
        "\n",
        "void accumulate_promise(vint &v, promise<int> accumulate_promise) {\n",
        "  accumulate_promise.set_value(accumulate(v));  // Notify future\n",
        "}\n",
        "\n",
        "int main(void) {\n",
        "  vint vec0 = {1, 2, 3, 4, 5, 6};\n",
        "  int exact_value = vec0.sum();\n",
        "\n",
        "  thread th0(accumulate_global, ref(vec0));\n",
        "  th0.join();\n",
        "  printf(\"result of accumulate_global [21 expected]  = %d\\n\", global_sum);    \n",
        "  assert(global_sum == exact_value);\n",
        "\n",
        "  int sum0;\n",
        "  thread th1(accumulate_ref, ref(vec0), ref(sum0));\n",
        "  th1.join();\n",
        "  printf(\"result of accumulate_ref [21 expected]     = %d\\n\", sum0);  \n",
        "  assert(sum0 == exact_value);\n",
        "\n",
        "  promise<int> sum_promise;  // Will store the int\n",
        "  future<int> sum_future = sum_promise.get_future();\n",
        "  // Used to retrieve the value asynchronously, at a later time\n",
        "\n",
        "  thread th2(accumulate_promise, ref(vec0), move(sum_promise));\n",
        "  // move() will \"move\" the resources\n",
        "\n",
        "  // future::get() waits until the future has a valid result and retrieves it\n",
        "  int sum1 = sum_future.get();\n",
        "  printf(\"result of accumulate_promise [21 expected] = %d\\n\", sum1);\n",
        "  assert(sum1 == exact_value);\n",
        "\n",
        "  th2.join();\n",
        "  return 0;\n",
        "}"
      ],
      "execution_count": null,
      "outputs": [
        {
          "output_type": "stream",
          "text": [
            "Overwriting future.cpp\n"
          ],
          "name": "stdout"
        }
      ]
    },
    {
      "cell_type": "code",
      "metadata": {
        "colab": {
          "base_uri": "https://localhost:8080/"
        },
        "id": "43YiArDL1yui",
        "outputId": "1a151519-92d2-4a76-eb9b-9063133295e3"
      },
      "source": [
        "!g++ -o future future.cpp -lpthread && ./future"
      ],
      "execution_count": null,
      "outputs": [
        {
          "output_type": "stream",
          "text": [
            "result of accumulate_global [21 expected]  = 21\n",
            "result of accumulate_ref [21 expected]     = 21\n",
            "result of accumulate_promise [21 expected] = 21\n"
          ],
          "name": "stdout"
        }
      ]
    },
    {
      "cell_type": "markdown",
      "metadata": {
        "id": "p1CTdpwwCDMb"
      },
      "source": [
        "# C++ mutex"
      ]
    },
    {
      "cell_type": "code",
      "metadata": {
        "colab": {
          "base_uri": "https://localhost:8080/"
        },
        "id": "wXNg-nUdnxUN",
        "outputId": "94883ff0-4182-48c6-b4b2-9260b96b4655"
      },
      "source": [
        "%%file pi.cpp\n",
        "\n",
        "#include <cmath>\n",
        "#include <iomanip>\n",
        "#include <iostream>\n",
        "#include <mutex>\n",
        "#include <thread>\n",
        "#include <vector>\n",
        "\n",
        "using namespace std;\n",
        "\n",
        "typedef long double flt_t;\n",
        "\n",
        "flt_t pi;\n",
        "mutex pi_mutex;\n",
        "\n",
        "const flt_t one = flt_t(1);\n",
        "const flt_t two = flt_t(2);\n",
        "const flt_t four = flt_t(4);\n",
        "\n",
        "// Bailey–Borwein–Plouffe formula\n",
        "flt_t increment(const int k) {\n",
        "  return flt_t((four / (8 * k + 1) - two / (8 * k + 4) - one / (8 * k + 5) -\n",
        "                one / (8 * k + 6)) /\n",
        "               pow(16, k));\n",
        "}\n",
        "\n",
        "void BBP_range(const int k_start, const int k_chunk) {\n",
        "  flt_t local_pi = 0;\n",
        "  for (int k = k_start + k_chunk - 1; k >= k_start; --k) {\n",
        "    local_pi += increment(k);\n",
        "  }\n",
        "  lock_guard<mutex> guard(pi_mutex);\n",
        "  // Protect the update on the next line\n",
        "  pi += local_pi;\n",
        "}\n",
        "\n",
        "int main(void) {\n",
        "  const int n_threads = 8;\n",
        "\n",
        "  // create vector of thread*\n",
        "  vector<thread*> th_pool(n_threads);\n",
        "\n",
        "  pi = 0;\n",
        "  unsigned k_chunk = 2;  // size of range computed by each thread\n",
        "  for (int i = 0; i < n_threads; ++i) {\n",
        "    th_pool[i] = new thread(BBP_range, i * k_chunk, k_chunk);\n",
        "  };\n",
        "\n",
        "  for (auto th : th_pool) {\n",
        "    th->join();\n",
        "  };\n",
        "\n",
        "  cout << \"pi exact: 3.14159265358979323846264338327950288419716939937510\\n\";\n",
        "  cout << setprecision(19);\n",
        "  cout << \"pi:       \" << pi << endl;\n",
        "\n",
        "  cout << setprecision(5);\n",
        "  cout << \"precision of type: \" << numeric_limits<flt_t>::digits10 << endl;\n",
        "  cout << \"epsilon: \" << numeric_limits<flt_t>::epsilon() << endl;\n",
        "  cout << \"minimum error: \" << 3.141592 * numeric_limits<flt_t>::epsilon()\n",
        "       << endl;\n",
        "\n",
        "  return 0;\n",
        "}"
      ],
      "execution_count": null,
      "outputs": [
        {
          "output_type": "stream",
          "text": [
            "Overwriting pi.cpp\n"
          ],
          "name": "stdout"
        }
      ]
    },
    {
      "cell_type": "code",
      "metadata": {
        "colab": {
          "base_uri": "https://localhost:8080/"
        },
        "id": "QTxNYTCvn3Fw",
        "outputId": "2f8b0349-a05f-4cd1-ee86-bebdb1d7dd4f"
      },
      "source": [
        "!g++ -std=c++11 -o pi pi.cpp -lpthread && ./pi"
      ],
      "execution_count": null,
      "outputs": [
        {
          "output_type": "stream",
          "text": [
            "pi exact: 3.14159265358979323846264338327950288419716939937510\n",
            "pi:       3.141592653589793238\n",
            "precision of type: 18\n",
            "epsilon: 1.0842e-19\n",
            "minimum error: 3.4061e-19\n"
          ],
          "name": "stdout"
        }
      ]
    },
    {
      "cell_type": "markdown",
      "metadata": {
        "id": "MwSgUXPyCIQJ"
      },
      "source": [
        "# Hello World, openMP"
      ]
    },
    {
      "cell_type": "code",
      "metadata": {
        "colab": {
          "base_uri": "https://localhost:8080/"
        },
        "id": "nrlf4lzj5O75",
        "outputId": "f483c2a2-6eaa-40e0-80bc-e0718b4ac17f"
      },
      "source": [
        "%%file pi_omp_1.cpp\n",
        "\n",
        "#include <omp.h>\n",
        "\n",
        "#include <cmath>\n",
        "#include <iomanip>\n",
        "#include <iostream>\n",
        "#include <vector>\n",
        "\n",
        "using namespace std;\n",
        "typedef long double flt_t;\n",
        "\n",
        "const flt_t one = flt_t(1);\n",
        "const flt_t two = flt_t(2);\n",
        "const flt_t four = flt_t(4);\n",
        "\n",
        "// Bailey–Borwein–Plouffe formula\n",
        "flt_t increment(const int k) {\n",
        "  return flt_t((four / (8 * k + 1) - two / (8 * k + 4) - one / (8 * k + 5) -\n",
        "                one / (8 * k + 6)) /\n",
        "               pow(16, k));\n",
        "}\n",
        "\n",
        "int main(void) {\n",
        "  flt_t pi;\n",
        "\n",
        "#pragma omp parallel for\n",
        "  for (int k = 0; k < 64; ++k) {\n",
        "    pi += increment(k); // BUG: there is a race condition on pi\n",
        "  };\n",
        "\n",
        "  cout << \"pi exact: 3.14159265358979323846264338327950288419716939937510\\n\";\n",
        "  cout << \"pi omp:   \" << setprecision(19) << pi << endl;\n",
        "\n",
        "  return 0;\n",
        "}"
      ],
      "execution_count": null,
      "outputs": [
        {
          "output_type": "stream",
          "text": [
            "Overwriting pi_omp_1.cpp\n"
          ],
          "name": "stdout"
        }
      ]
    },
    {
      "cell_type": "code",
      "metadata": {
        "colab": {
          "base_uri": "https://localhost:8080/"
        },
        "id": "O7Onch4i5USI",
        "outputId": "d72db9c3-e788-4baf-d71d-806453460c29"
      },
      "source": [
        "! g++ -std=c++11 -o pi_omp_1 pi_omp_1.cpp -fopenmp && ./pi_omp_1"
      ],
      "execution_count": null,
      "outputs": [
        {
          "output_type": "stream",
          "text": [
            "pi exact: 3.14159265358979323846264338327950288419716939937510\n",
            "pi omp:   3.141592653589793238\n"
          ],
          "name": "stdout"
        }
      ]
    },
    {
      "cell_type": "markdown",
      "metadata": {
        "id": "EQyAnel4CSmf"
      },
      "source": [
        "# OpenMP reduction clause"
      ]
    },
    {
      "cell_type": "code",
      "metadata": {
        "colab": {
          "base_uri": "https://localhost:8080/"
        },
        "id": "3xpVgUxS93jP",
        "outputId": "98acbf65-8ab8-436e-8146-63782704f83a"
      },
      "source": [
        "%%file pi_omp_2.cpp\n",
        "\n",
        "#include <omp.h>\n",
        "\n",
        "#include <cmath>\n",
        "#include <iomanip>\n",
        "#include <iostream>\n",
        "#include <vector>\n",
        "\n",
        "using namespace std;\n",
        "typedef long double flt_t;\n",
        "\n",
        "const flt_t one = flt_t(1);\n",
        "const flt_t two = flt_t(2);\n",
        "const flt_t four = flt_t(4);\n",
        "\n",
        "// Bailey–Borwein–Plouffe formula\n",
        "flt_t increment(const int k) {\n",
        "  return flt_t((four / (8 * k + 1) - two / (8 * k + 4) - one / (8 * k + 5) -\n",
        "                one / (8 * k + 6)) /\n",
        "               pow(16, k));\n",
        "}\n",
        "\n",
        "int main(void) {\n",
        "  flt_t pi;\n",
        "\n",
        "#pragma omp parallel for reduction(+:pi)\n",
        "  for (int k = 0; k < 64; ++k) {\n",
        "    pi += increment(k); // this code is correct\n",
        "  };\n",
        "\n",
        "  cout << \"pi exact: 3.14159265358979323846264338327950288419716939937510\\n\";\n",
        "  cout << \"pi omp:   \" << setprecision(19) << pi << endl;\n",
        "\n",
        "  return 0;\n",
        "}"
      ],
      "execution_count": null,
      "outputs": [
        {
          "output_type": "stream",
          "text": [
            "Overwriting pi_omp_2.cpp\n"
          ],
          "name": "stdout"
        }
      ]
    },
    {
      "cell_type": "code",
      "metadata": {
        "colab": {
          "base_uri": "https://localhost:8080/"
        },
        "id": "eukYjkJ5-KTQ",
        "outputId": "4d04c573-55f2-4581-d076-8cba8abd8402"
      },
      "source": [
        "! g++ -std=c++11 -o pi_omp_2 pi_omp_2.cpp -fopenmp && ./pi_omp_2"
      ],
      "execution_count": null,
      "outputs": [
        {
          "output_type": "stream",
          "text": [
            "pi exact: 3.14159265358979323846264338327950288419716939937510\n",
            "pi omp:   3.141592653589793238\n"
          ],
          "name": "stdout"
        }
      ]
    },
    {
      "cell_type": "markdown",
      "metadata": {
        "id": "yh_if-kWXSNS"
      },
      "source": [
        "# Exercise: Computing Pi\n",
        "\n",
        "Modify the example below to make the code multi-threaded using OpenMP.\n",
        "\n",
        "We use the formula:\n",
        "\n",
        "$$\\pi = \\int_0^1 \\frac{4}{1+x^2} \\, dx $$\n",
        "\n",
        "The integral is approximated using a quadrature rule."
      ]
    },
    {
      "cell_type": "code",
      "metadata": {
        "id": "3slFv4aTXVA7",
        "colab": {
          "base_uri": "https://localhost:8080/"
        },
        "outputId": "1e32183f-241b-495b-b9ab-8575d925a377"
      },
      "source": [
        "%%file pi_openmp.cpp\n",
        "\n",
        "#include <omp.h>\n",
        "#include <cstdio>\n",
        "\n",
        "int main(){\n",
        "    double sum = 0;\n",
        "    const int n = 10000;\n",
        "    for(int i = 0; i<n; ++i){\n",
        "        const double x = (i+0.5) / n;\n",
        "        sum += 4. / (1. + x*x); \n",
        "    }\n",
        "    sum /= n;\n",
        "    printf(\"Pi is %17.15f\\n      3.141592653589793\\n\",sum);\n",
        "}"
      ],
      "execution_count": null,
      "outputs": [
        {
          "output_type": "stream",
          "text": [
            "Overwriting pi_openmp.cpp\n"
          ],
          "name": "stdout"
        }
      ]
    },
    {
      "cell_type": "code",
      "metadata": {
        "id": "YZSmGpc_aIkL",
        "colab": {
          "base_uri": "https://localhost:8080/"
        },
        "outputId": "d49a92a5-56b1-4b7d-9775-86557724e59b"
      },
      "source": [
        "!g++ -o pi_openmp -fopenmp pi_openmp.cpp && ./pi_openmp"
      ],
      "execution_count": null,
      "outputs": [
        {
          "output_type": "stream",
          "text": [
            "Pi is 3.141592654423134\n",
            "      3.141592653589793\n"
          ],
          "name": "stdout"
        }
      ]
    },
    {
      "cell_type": "markdown",
      "metadata": {
        "id": "2JstAC1wJ66k"
      },
      "source": [
        "# OpenMP tasks"
      ]
    },
    {
      "cell_type": "code",
      "metadata": {
        "colab": {
          "base_uri": "https://localhost:8080/"
        },
        "id": "iF34KKNyJ9wj",
        "outputId": "78cc3fdd-3d69-456a-ad4d-f01081b01611"
      },
      "source": [
        "%%file tree_postorder.cpp\n",
        "\n",
        "#include <omp.h>\n",
        "\n",
        "#include <cstdio>\n",
        "#include <cstdlib>\n",
        "\n",
        "#define P 0.8\n",
        "\n",
        "bool InsertCond() { return rand() < static_cast<int>(P * RAND_MAX); }\n",
        "\n",
        "struct Node {\n",
        "  int data;\n",
        "  Node *left, *right;\n",
        "};\n",
        "\n",
        "void FillTree(const int max_level, int level, Node *curr_node) {\n",
        "  if (level < max_level) {\n",
        "    curr_node->left = new Node;\n",
        "    curr_node->left->left = curr_node->left->right = NULL;\n",
        "\n",
        "    if (InsertCond()) FillTree(max_level, level + 1, curr_node->left);\n",
        "\n",
        "    curr_node->right = new Node;\n",
        "    curr_node->right->left = curr_node->right->right = NULL;\n",
        "\n",
        "    if (InsertCond()) FillTree(max_level, level + 1, curr_node->right);\n",
        "  }\n",
        "}\n",
        "\n",
        "// Sequential code\n",
        "int PostOrderTraverseSequential(struct Node *curr_node) {\n",
        "  int left = 0, right = 0;\n",
        "  if (curr_node->left) left = PostOrderTraverseSequential(curr_node->left);\n",
        "  if (curr_node->right) right = PostOrderTraverseSequential(curr_node->right);\n",
        "  curr_node->data = left + right;  // Number of children nodes\n",
        "\n",
        "  return 1 + left + right;\n",
        "}\n",
        "\n",
        "// Parallel post-order traversal\n",
        "int PostOrderTraverse(struct Node *curr_node) {\n",
        "  int left = 0, right = 0;\n",
        "\n",
        "  if (curr_node->left)\n",
        "#pragma omp task shared(left)\n",
        "    left = PostOrderTraverse(curr_node->left);\n",
        "  // Default attribute for task constructs is firstprivate\n",
        "  if (curr_node->right)\n",
        "#pragma omp task shared(right)\n",
        "    right = PostOrderTraverse(curr_node->right);\n",
        "\n",
        "#pragma omp taskwait\n",
        "  curr_node->data = left + right;  // Number of children nodes\n",
        "\n",
        "  return 1 + left + right;\n",
        "}\n",
        "\n",
        "int main() {\n",
        "  int n_level = 32;  // Maximum number of levels in the tree\n",
        "  Node *root = new Node;\n",
        "\n",
        "  // Create a random tree\n",
        "  FillTree(n_level, 1, root);\n",
        "\n",
        "  printf(\"Post-order traversal:              %d\\n\", PostOrderTraverseSequential(root));\n",
        "\n",
        "#pragma omp parallel\n",
        "#pragma omp single  // Only a single thread should execute this\n",
        "  printf(\"Multi-threaded omp implementation: %d\\n\", PostOrderTraverse(root));\n",
        "}"
      ],
      "execution_count": null,
      "outputs": [
        {
          "output_type": "stream",
          "text": [
            "Overwriting tree_postorder.cpp\n"
          ],
          "name": "stdout"
        }
      ]
    },
    {
      "cell_type": "code",
      "metadata": {
        "colab": {
          "base_uri": "https://localhost:8080/"
        },
        "id": "EfCyXp7nKC6c",
        "outputId": "1d61d3b5-0c2b-4bd4-fb8f-8de50def0135"
      },
      "source": [
        "! g++ -std=c++11 -o tree_postorder tree_postorder.cpp -fopenmp && ./tree_postorder"
      ],
      "execution_count": null,
      "outputs": [
        {
          "output_type": "stream",
          "text": [
            "Post-order traversal:              2934467\n",
            "Multi-threaded omp implementation: 2934467\n"
          ],
          "name": "stdout"
        }
      ]
    },
    {
      "cell_type": "markdown",
      "metadata": {
        "id": "eVze9PwdCYmq"
      },
      "source": [
        "# Exercise: Entropy"
      ]
    },
    {
      "cell_type": "code",
      "metadata": {
        "colab": {
          "base_uri": "https://localhost:8080/"
        },
        "id": "S6zXa0NfArqV",
        "outputId": "28dc657e-035f-4d78-a202-ef4005c3a4f9"
      },
      "source": [
        "%%file entropy.cpp\n",
        "\n",
        "#include <vector>\n",
        "#include <cmath>\n",
        "#include <cassert>\n",
        "#include <iostream>\n",
        "#include <omp.h>\n",
        "\n",
        "using namespace std;\n",
        "\n",
        "// helper function\n",
        "void print_vector(vector<float> &vec)\n",
        "{\n",
        "    const unsigned n = vec.size();\n",
        "    printf(\"(\");\n",
        "    for (unsigned i = 0; i < n - 1; ++i)\n",
        "        printf(\"%6.4f,\", vec[i]);\n",
        "    printf(\"%6.4f)\\n\", vec[n - 1]);\n",
        "}\n",
        "\n",
        "int main(void)\n",
        "{\n",
        "    const unsigned size = 16;\n",
        "    vector<float> entropy0(size), entropy1(size);\n",
        "\n",
        "    #pragma omp parallel\n",
        "    #pragma omp single\n",
        "    printf(\"number of threads = %d\\n\", omp_get_num_threads());\n",
        "    // omp_get_num_threads returns the number of threads used\n",
        "    // when running a parallel region\n",
        "\n",
        "    // Computing two probabilities\n",
        "    for (unsigned i = 0; i < size; i++)\n",
        "    {\n",
        "        float d = i - float(size - 1) / 2.;\n",
        "        entropy0[i] = exp(-d * d / 0.5);\n",
        "        entropy1[i] = exp(-d * d / 10.);\n",
        "    }\n",
        "\n",
        "    // We sum up all the entries to normalize the vectors\n",
        "    // entropy0 and entropy1.\n",
        "    float sum1 = 0, sum2 = 0;\n",
        "    for (unsigned i = 0; i < size; i++)\n",
        "    {\n",
        "        sum1 += entropy0[i];\n",
        "        sum2 += entropy1[i];\n",
        "    }\n",
        "\n",
        "    // Now normalize entropy0 and entropy1.\n",
        "    for (unsigned i = 0; i < size; i++)\n",
        "    {\n",
        "        entropy0[i] /= sum1;\n",
        "        entropy1[i] /= sum2;\n",
        "    }\n",
        "\n",
        "    print_vector(entropy0);\n",
        "    print_vector(entropy1);\n",
        "\n",
        "    // Computing the entropy of the two probabilities\n",
        "    float ent1 = 0, ent2 = 0;\n",
        "    for (unsigned i = 0; i < size; i++)\n",
        "    {\n",
        "        if (entropy0[i] > 0)\n",
        "            ent1 += entropy0[i] * log(entropy0[i]);\n",
        "        if (entropy1[i] > 0)\n",
        "            ent2 += entropy1[i] * log(entropy1[i]);\n",
        "    }\n",
        "\n",
        "    ent1 = -ent1;\n",
        "    ent2 = -ent2;\n",
        "\n",
        "    printf(\"Change in entropy: %43.40f\\n\", ent2 - ent1);\n",
        "    assert(fabs(ent2 - ent1 - 1.4378435611724853515625) < 1e-6);\n",
        "\n",
        "    return 0;\n",
        "}"
      ],
      "execution_count": null,
      "outputs": [
        {
          "output_type": "stream",
          "text": [
            "Overwriting entropy.cpp\n"
          ],
          "name": "stdout"
        }
      ]
    },
    {
      "cell_type": "code",
      "metadata": {
        "colab": {
          "base_uri": "https://localhost:8080/"
        },
        "id": "z2MYVDNDBXu1",
        "outputId": "03e440bd-5587-4c86-cf47-ff31a5da2316"
      },
      "source": [
        "! g++ -std=c++11 -o entropy entropy.cpp -fopenmp && ./entropy"
      ],
      "execution_count": null,
      "outputs": [
        {
          "output_type": "stream",
          "text": [
            "number of threads = 2\n",
            "(0.0000,0.0000,0.0000,0.0000,0.0000,0.0000,0.0090,0.4910,0.4910,0.0090,0.0000,0.0000,0.0000,0.0000,0.0000,0.0000)\n",
            "(0.0006,0.0026,0.0087,0.0236,0.0524,0.0955,0.1425,0.1741,0.1741,0.1425,0.0955,0.0524,0.0236,0.0087,0.0026,0.0006)\n",
            "Change in entropy:  1.4378435611724853515625000000000000000000\n"
          ],
          "name": "stdout"
        }
      ]
    },
    {
      "cell_type": "markdown",
      "metadata": {
        "id": "CV-g5KIVd57Q"
      },
      "source": [
        "# Exercise: N-body problem"
      ]
    },
    {
      "cell_type": "code",
      "metadata": {
        "colab": {
          "base_uri": "https://localhost:8080/"
        },
        "id": "K4ZQ-01iFmsf",
        "outputId": "aecdecf0-c827-4c0e-b9b8-b40e651ab55f"
      },
      "source": [
        "%%file nbody.cpp\n",
        "\n",
        "#include <omp.h>\n",
        "\n",
        "#include <cassert>\n",
        "#include <cmath>\n",
        "#include <cstdio>\n",
        "#include <cstdlib>\n",
        "#include <iostream>\n",
        "#include <vector>\n",
        "\n",
        "using namespace std;\n",
        "\n",
        "// Pseudo-random number generator\n",
        "int rand_r(unsigned int *seed) {\n",
        "  unsigned int next = *seed;\n",
        "  int result;\n",
        "\n",
        "  next *= 1103515245;\n",
        "  next += 12345;\n",
        "  result = (unsigned int)(next / 65536) % 2048;\n",
        "\n",
        "  next *= 1103515245;\n",
        "  next += 12345;\n",
        "  result <<= 10;\n",
        "  result ^= (unsigned int)(next / 65536) % 1024;\n",
        "\n",
        "  next *= 1103515245;\n",
        "  next += 12345;\n",
        "  result <<= 10;\n",
        "  result ^= (unsigned int)(next / 65536) % 1024;\n",
        "\n",
        "  *seed = next;\n",
        "\n",
        "  return result;\n",
        "}\n",
        "\n",
        "float force(const float x) { return -2. * atan(x) / (x * x + 1.); }\n",
        "\n",
        "int main(void) {\n",
        "  const unsigned n_threads = 1;\n",
        "  omp_set_num_threads(n_threads);  \n",
        "  // set the number of threads for this example\n",
        "#pragma omp parallel\n",
        "#pragma omp single\n",
        "  printf(\"number of threads = %d\\n\", omp_get_num_threads());\n",
        "\n",
        "  const int n = 64;\n",
        "  vector<float> x(n);\n",
        "\n",
        "  // Generate random points on the unit interval\n",
        "  // Todo: parallelize this block\n",
        "  {\n",
        "    assert(omp_get_num_threads() == n_threads);\n",
        "    // Thread safe generation of random numbers\n",
        "    const long tid = omp_get_thread_num();\n",
        "    // Seed is unique to thread\n",
        "    unsigned int seed = 4357U + unsigned(tid) * 1103515245;\n",
        "    // Parallelize this loop\n",
        "    for (int i = 0; i < n; ++i) {\n",
        "      x[i] = float(rand_r(&seed)) / RAND_MAX;\n",
        "      assert(x[i] > 0 && x[i] < 1);\n",
        "    }\n",
        "  }\n",
        "\n",
        "  /* Compute interaction forces between particles.\n",
        "   Atomic is used. */\n",
        "  vector<float> f(n);\n",
        "  // Parallelize this loop\n",
        "  for (int i = 0; i < n; ++i) f[i] = 0.;\n",
        "\n",
        "  // Parallelize this loop\n",
        "  for (int i = 0; i < n; ++i)\n",
        "    for (int j = i + 1; j < n; ++j) {\n",
        "      const float x_ = x[i] - x[j];\n",
        "      const float f_ = force(x_);\n",
        "      // Avoid the race condition\n",
        "      f[i] += f_;\n",
        "      f[j] -= f_;\n",
        "    }\n",
        "\n",
        "  // Test\n",
        "  {\n",
        "    vector<float> f0(n, 0.);\n",
        "\n",
        "    for (int i = 0; i < n; ++i)\n",
        "      for (int j = i + 1; j < n; ++j) {\n",
        "        const float x_ = x[i] - x[j];\n",
        "        const float f_ = force(x_);\n",
        "        f0[i] += f_;\n",
        "        f0[j] -= f_;\n",
        "      }\n",
        "\n",
        "    for (int i = 0; i < n; ++i) assert(fabs(f0[i] - f[i]) < 1e-4);\n",
        "\n",
        "    float max = 0;\n",
        "    for (int i = 0; i < n; ++i)\n",
        "      max = max < fabs(f0[i] - f[i]) ? fabs(f0[i] - f[i]) : max;\n",
        "    printf(\"largest error %g\\n\", max);\n",
        "\n",
        "    cout << \"PASS\\n\";\n",
        "  }\n",
        "\n",
        "  return 0;\n",
        "}"
      ],
      "execution_count": null,
      "outputs": [
        {
          "output_type": "stream",
          "text": [
            "Overwriting nbody.cpp\n"
          ],
          "name": "stdout"
        }
      ]
    },
    {
      "cell_type": "code",
      "metadata": {
        "colab": {
          "base_uri": "https://localhost:8080/"
        },
        "id": "5zMdIrTzFuHB",
        "outputId": "145b168d-cb2d-4b6e-97b0-f98b0b73cc7c"
      },
      "source": [
        "!g++ -fopenmp -o nbody nbody.cpp && ./nbody"
      ],
      "execution_count": null,
      "outputs": [
        {
          "output_type": "stream",
          "text": [
            "number of threads = 1\n",
            "largest error 0\n",
            "PASS\n"
          ],
          "name": "stdout"
        }
      ]
    },
    {
      "cell_type": "code",
      "metadata": {
        "colab": {
          "base_uri": "https://localhost:8080/"
        },
        "id": "l54WZmJdON5z",
        "outputId": "b2c93238-0c88-4604-96e4-dcf886fcaa99"
      },
      "source": [
        "!OMP_NUM_THREADS=16 ./entropy"
      ],
      "execution_count": null,
      "outputs": [
        {
          "output_type": "stream",
          "text": [
            "number of threads = 16\n",
            "(0.0000,0.0000,0.0000,0.0000,0.0000,0.0000,0.0090,0.4910,0.4910,0.0090,0.0000,0.0000,0.0000,0.0000,0.0000,0.0000)\n",
            "(0.0006,0.0026,0.0087,0.0236,0.0524,0.0955,0.1425,0.1741,0.1741,0.1425,0.0955,0.0524,0.0236,0.0087,0.0026,0.0006)\n",
            "Change in entropy:  1.4378435611724853515625000000000000000000\n"
          ],
          "name": "stdout"
        }
      ]
    },
    {
      "cell_type": "markdown",
      "metadata": {
        "id": "haxGVD4THQvJ"
      },
      "source": [
        "Attempt to do the exercises before reading the solutions!!"
      ]
    },
    {
      "cell_type": "markdown",
      "metadata": {
        "id": "dsJGvCxhJGMw"
      },
      "source": [
        "# Solutions"
      ]
    },
    {
      "cell_type": "markdown",
      "metadata": {
        "id": "PEwsl8yAJOGb"
      },
      "source": [
        "## Computing Pi solution"
      ]
    },
    {
      "cell_type": "code",
      "metadata": {
        "colab": {
          "base_uri": "https://localhost:8080/"
        },
        "id": "TP3giU6tJKiP",
        "outputId": "18d21398-3053-4aca-a9d8-f24c020ab01d"
      },
      "source": [
        "%%file pi_openmp.cpp\n",
        "\n",
        "#include <omp.h>\n",
        "#include <cstdio>\n",
        "\n",
        "int main(){\n",
        "    double sum = 0;\n",
        "    const int n = 10000;\n",
        "    #pragma omp parallel for reduction(+:sum)\n",
        "    for(int i = 0; i<n; ++i){\n",
        "        const double x = (i+0.5) / n;\n",
        "        sum += 4. / (1. + x*x); \n",
        "    }\n",
        "    sum /= n;\n",
        "    printf(\"Pi is %17.15f\\n      3.141592653589793\\n\",sum);\n",
        "}"
      ],
      "execution_count": null,
      "outputs": [
        {
          "output_type": "stream",
          "text": [
            "Overwriting pi_openmp.cpp\n"
          ],
          "name": "stdout"
        }
      ]
    },
    {
      "cell_type": "code",
      "metadata": {
        "colab": {
          "base_uri": "https://localhost:8080/"
        },
        "id": "7A38XIjyJcvX",
        "outputId": "9c3575ac-e9c4-4a47-a16d-cec607649f58"
      },
      "source": [
        "!g++ -o pi_openmp -fopenmp pi_openmp.cpp && ./pi_openmp"
      ],
      "execution_count": null,
      "outputs": [
        {
          "output_type": "stream",
          "text": [
            "Pi is 3.141592654423129\n",
            "      3.141592653589793\n"
          ],
          "name": "stdout"
        }
      ]
    },
    {
      "cell_type": "markdown",
      "metadata": {
        "id": "8oz0VHRaka0h"
      },
      "source": [
        "## Entropy homework solution"
      ]
    },
    {
      "cell_type": "code",
      "metadata": {
        "colab": {
          "base_uri": "https://localhost:8080/"
        },
        "id": "7dmu8gFTkfCJ",
        "outputId": "701fd598-ed37-4b9f-8e27-beac20a97bbc"
      },
      "source": [
        "%%file entropy.cpp\n",
        "\n",
        "#include <omp.h>\n",
        "\n",
        "#include <cassert>\n",
        "#include <cmath>\n",
        "#include <iostream>\n",
        "#include <vector>\n",
        "\n",
        "using namespace std;\n",
        "\n",
        "// helper function\n",
        "void print_vector(vector<float> &vec) {\n",
        "  const unsigned n = vec.size();\n",
        "  printf(\"(\");\n",
        "  for (unsigned i = 0; i < n - 1; ++i) printf(\"%6.4f,\", vec[i]);\n",
        "  printf(\"%6.4f)\\n\", vec[n - 1]);\n",
        "}\n",
        "\n",
        "int main(void) {\n",
        "  const unsigned size = 16;\n",
        "  vector<float> entropy0(size), entropy1(size);\n",
        "\n",
        "#pragma omp parallel\n",
        "#pragma omp single\n",
        "  printf(\"number of threads = %d\\n\", omp_get_num_threads());\n",
        "  // omp_get_num_threads returns the number of threads used\n",
        "  // when running a parallel region\n",
        "\n",
        "  // Computing two probabilities\n",
        "#pragma omp parallel for\n",
        "  for (unsigned i = 0; i < size; i++) {\n",
        "    float d = i - float(size - 1) / 2.;\n",
        "    entropy0[i] = exp(-d * d / 0.5);\n",
        "    entropy1[i] = exp(-d * d / 10.);\n",
        "  }\n",
        "\n",
        "  // We sum up all the entries to normalize the vectors\n",
        "  // entropy0 and entropy1.\n",
        "  float sum1 = 0, sum2 = 0;\n",
        "#pragma omp parallel for reduction(+ : sum1, sum2)\n",
        "  for (unsigned i = 0; i < size; i++) {\n",
        "    sum1 += entropy0[i];\n",
        "    sum2 += entropy1[i];\n",
        "  }\n",
        "\n",
        "// Now normalize entropy0 and entropy1.\n",
        "#pragma omp parallel for\n",
        "  for (unsigned i = 0; i < size; i++) {\n",
        "    entropy0[i] /= sum1;\n",
        "    entropy1[i] /= sum2;\n",
        "  }\n",
        "\n",
        "  print_vector(entropy0);\n",
        "  print_vector(entropy1);\n",
        "\n",
        "  // Computing the entropy of the two probabilities\n",
        "  float ent1 = 0, ent2 = 0;\n",
        "#pragma omp parallel for reduction(+ : ent1, ent2)\n",
        "  for (unsigned i = 0; i < size; i++) {\n",
        "    if (entropy0[i] > 0) ent1 += entropy0[i] * log(entropy0[i]);\n",
        "    if (entropy1[i] > 0) ent2 += entropy1[i] * log(entropy1[i]);\n",
        "  }\n",
        "\n",
        "  ent1 = -ent1;\n",
        "  ent2 = -ent2;\n",
        "\n",
        "  printf(\"Change in entropy: %43.40f\\n\", ent2 - ent1);\n",
        "  assert(fabs(ent2 - ent1 - 1.4378435611724853515625) < 1e-6);\n",
        "\n",
        "  return 0;\n",
        "}"
      ],
      "execution_count": null,
      "outputs": [
        {
          "output_type": "stream",
          "text": [
            "Overwriting entropy.cpp\n"
          ],
          "name": "stdout"
        }
      ]
    },
    {
      "cell_type": "code",
      "metadata": {
        "colab": {
          "base_uri": "https://localhost:8080/"
        },
        "id": "UqUB6kJfkh54",
        "outputId": "2b575a94-61a9-4ab2-84a0-d66deb52ff83"
      },
      "source": [
        "! g++ -std=c++11 -o entropy entropy.cpp -fopenmp && ./entropy"
      ],
      "execution_count": null,
      "outputs": [
        {
          "output_type": "stream",
          "text": [
            "number of threads = 2\n",
            "(0.0000,0.0000,0.0000,0.0000,0.0000,0.0000,0.0090,0.4910,0.4910,0.0090,0.0000,0.0000,0.0000,0.0000,0.0000,0.0000)\n",
            "(0.0006,0.0026,0.0087,0.0236,0.0524,0.0955,0.1425,0.1741,0.1741,0.1425,0.0955,0.0524,0.0236,0.0087,0.0026,0.0006)\n",
            "Change in entropy:  1.4378437995910644531250000000000000000000\n"
          ],
          "name": "stdout"
        }
      ]
    },
    {
      "cell_type": "markdown",
      "metadata": {
        "id": "TBKG2vI_GS3s"
      },
      "source": [
        "## N-body problem solution"
      ]
    },
    {
      "cell_type": "code",
      "metadata": {
        "colab": {
          "base_uri": "https://localhost:8080/"
        },
        "id": "JhBYtH9BGRwH",
        "outputId": "cdb0ef52-49ee-4bbb-eca1-06fed5e3cd2b"
      },
      "source": [
        "%%file nbody_omp.cpp\n",
        "\n",
        "#include <omp.h>\n",
        "\n",
        "#include <cassert>\n",
        "#include <cmath>\n",
        "#include <cstdio>\n",
        "#include <cstdlib>\n",
        "#include <iostream>\n",
        "#include <vector>\n",
        "\n",
        "using namespace std;\n",
        "\n",
        "// Pseudo-random number generator\n",
        "int rand_r(unsigned int *seed) {\n",
        "  unsigned int next = *seed;\n",
        "  int result;\n",
        "\n",
        "  next *= 1103515245;\n",
        "  next += 12345;\n",
        "  result = (unsigned int)(next / 65536) % 2048;\n",
        "\n",
        "  next *= 1103515245;\n",
        "  next += 12345;\n",
        "  result <<= 10;\n",
        "  result ^= (unsigned int)(next / 65536) % 1024;\n",
        "\n",
        "  next *= 1103515245;\n",
        "  next += 12345;\n",
        "  result <<= 10;\n",
        "  result ^= (unsigned int)(next / 65536) % 1024;\n",
        "\n",
        "  *seed = next;\n",
        "\n",
        "  return result;\n",
        "}\n",
        "\n",
        "float force(const float x) { return -2. * atan(x) / (x * x + 1.); }\n",
        "\n",
        "int main(void) {\n",
        "  const unsigned n_threads = 4;\n",
        "  omp_set_num_threads(n_threads);  \n",
        "  // set the number of threads for this example\n",
        "#pragma omp parallel\n",
        "#pragma omp single\n",
        "  printf(\"number of threads = %d\\n\", omp_get_num_threads());\n",
        "\n",
        "  const int n = 64;\n",
        "  vector<float> x(n);\n",
        "\n",
        "// Generate random points on the unit interval\n",
        "// Create a parallel region\n",
        "#pragma omp parallel\n",
        "  {\n",
        "    assert(omp_get_num_threads() == n_threads);\n",
        "    // Thread safe generation of random numbers\n",
        "    const long tid = omp_get_thread_num();\n",
        "    // Seed is unique to thread\n",
        "    unsigned int seed = 4357U + unsigned(tid) * 1103515245;\n",
        "   // Parallel for loop\n",
        "#pragma omp for\n",
        "    for (int i = 0; i < n; ++i) {\n",
        "      x[i] = float(rand_r(&seed)) / RAND_MAX;\n",
        "      assert(x[i] > 0 && x[i] < 1);\n",
        "    }\n",
        "  }\n",
        "\n",
        "  /* Compute interaction forces between particles.\n",
        "   Atomic is used. */\n",
        "  vector<float> f(n);\n",
        "#pragma omp parallel for\n",
        "  for (int i = 0; i < n; ++i) f[i] = 0.;\n",
        "\n",
        "#pragma omp parallel for\n",
        "  for (int i = 0; i < n; ++i)\n",
        "    for (int j = i + 1; j < n; ++j) {\n",
        "      const float x_ = x[i] - x[j];\n",
        "      const float f_ = force(x_);\n",
        "      // Use atomic to avoid a race condition\n",
        "#pragma omp atomic\n",
        "      f[i] += f_;\n",
        "#pragma omp atomic\n",
        "      f[j] -= f_;\n",
        "    }\n",
        "\n",
        "  // Test\n",
        "  {\n",
        "    vector<float> f0(n, 0.);\n",
        "\n",
        "    for (int i = 0; i < n; ++i)\n",
        "      for (int j = i + 1; j < n; ++j) {\n",
        "        const float x_ = x[i] - x[j];\n",
        "        const float f_ = force(x_);\n",
        "        f0[i] += f_;\n",
        "        f0[j] -= f_;\n",
        "      }\n",
        "\n",
        "    for (int i = 0; i < n; ++i) assert(fabs(f0[i] - f[i]) < 1e-4);\n",
        "\n",
        "    float max = 0;\n",
        "    for (int i = 0; i < n; ++i)\n",
        "      max = max < fabs(f0[i] - f[i]) ? fabs(f0[i] - f[i]) : max;\n",
        "    printf(\"largest error %g\\n\", max);\n",
        "\n",
        "    cout << \"PASS\\n\";\n",
        "  }\n",
        "\n",
        "  return 0;\n",
        "}"
      ],
      "execution_count": null,
      "outputs": [
        {
          "output_type": "stream",
          "text": [
            "Overwriting nbody_omp.cpp\n"
          ],
          "name": "stdout"
        }
      ]
    },
    {
      "cell_type": "code",
      "metadata": {
        "colab": {
          "base_uri": "https://localhost:8080/"
        },
        "id": "dghdqanbGZ2-",
        "outputId": "54cfdc38-2ff2-4e96-cbdc-4f7d53e03936"
      },
      "source": [
        "!g++ -o nbody_omp -fopenmp nbody_omp.cpp && ./nbody_omp"
      ],
      "execution_count": null,
      "outputs": [
        {
          "output_type": "stream",
          "text": [
            "number of threads = 4\n",
            "largest error 7.62939e-06\n",
            "PASS\n"
          ],
          "name": "stdout"
        }
      ]
    },
    {
      "cell_type": "code",
      "metadata": {
        "colab": {
          "base_uri": "https://localhost:8080/"
        },
        "id": "BNNgXFnwpguF",
        "outputId": "4eb93f8e-cbe6-43cf-9e95-8f94aab01c12"
      },
      "source": [
        "!OMP_NUM_THREADS=16 ./nbody_omp"
      ],
      "execution_count": null,
      "outputs": [
        {
          "output_type": "stream",
          "text": [
            "number of threads = 4\n",
            "largest error 1.14441e-05\n",
            "PASS\n"
          ],
          "name": "stdout"
        }
      ]
    }
  ]
}